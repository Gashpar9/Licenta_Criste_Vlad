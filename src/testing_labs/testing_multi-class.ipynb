{
 "cells": [
  {
   "cell_type": "markdown",
   "id": "c8f87ae5-cf51-4a6a-bc67-2d960ca4c20b",
   "metadata": {},
   "source": [
    "# Used libraries"
   ]
  },
  {
   "cell_type": "code",
   "execution_count": 8,
   "id": "585cbe84-da07-4dc0-a273-eb5c33f46859",
   "metadata": {},
   "outputs": [],
   "source": [
    "import os\n",
    "import pandas as pd\n",
    "\n",
    "from datetime import datetime\n",
    "\n",
    "from sklearn.model_selection import cross_validate\n",
    "from sklearn.impute import SimpleImputer\n",
    "\n",
    "from sklearn.metrics import make_scorer, accuracy_score, precision_score, recall_score, f1_score"
   ]
  },
  {
   "cell_type": "markdown",
   "id": "0c603a37-c0f5-4f29-9076-6b78282ce465",
   "metadata": {},
   "source": [
    "# Used algorithms"
   ]
  },
  {
   "cell_type": "code",
   "execution_count": 2,
   "id": "86d517ca-4fdc-4428-a07d-e4787661d62b",
   "metadata": {},
   "outputs": [],
   "source": [
    "from sklearn.ensemble import AdaBoostClassifier\n",
    "from sklearn.ensemble import ExtraTreesClassifier\n",
    "from sklearn.ensemble import GradientBoostingClassifier\n",
    "from sklearn.ensemble import BaggingClassifier\n",
    "from sklearn.ensemble import HistGradientBoostingClassifier\n",
    "from sklearn.ensemble import RandomForestClassifier\n",
    "from sklearn.tree import DecisionTreeClassifier"
   ]
  },
  {
   "cell_type": "markdown",
   "id": "b272190e-35aa-4281-91cf-e75026a31438",
   "metadata": {
    "editable": true,
    "slideshow": {
     "slide_type": ""
    },
    "tags": []
   },
   "source": [
    "# Data"
   ]
  },
  {
   "cell_type": "code",
   "execution_count": 3,
   "id": "dcfd1cc4-da5f-407b-9072-ce10c3b21853",
   "metadata": {},
   "outputs": [],
   "source": [
    "# We have to merge the dataset containing attack data and the dataset containing data under normal operation\n",
    "\n",
    "path_1 = os.path.join(os.getcwd(), \"../../datasets/WADI_attackdataLABLE.csv\")\n",
    "path_2 = os.path.join(os.getcwd(), \"../../datasets/WADI_14days_new.csv\")\n",
    "\n",
    "df_1 = pd.read_csv(path_1, header = 1, sep = ',')\n",
    "df_2 = pd.read_csv(path_2, header = 0, sep = ',')"
   ]
  },
  {
   "cell_type": "code",
   "execution_count": 4,
   "id": "14b7965f-0d58-441f-ba61-8856152dec5b",
   "metadata": {},
   "outputs": [],
   "source": [
    "# Row column is trivial, Date and Time columns are not relevant for the dataset containing only normal operation data\n",
    "\n",
    "df_1 = df_1.drop(columns = ['Row '])\n",
    "df_2 = df_2.drop(columns = ['Row', 'Date', 'Time'])"
   ]
  },
  {
   "cell_type": "code",
   "execution_count": 9,
   "id": "1c7a1057-8a38-415d-bf95-1eb170f1b5b5",
   "metadata": {},
   "outputs": [
    {
     "ename": "ValueError",
     "evalue": "time data \"10/9/17 00:00.0\" doesn't match format \"%d/%m/%Y %H:%M.%S\", at position 0. You might want to try:\n    - passing `format` if your strings have a consistent format;\n    - passing `format='ISO8601'` if your strings are all ISO8601 but not necessarily in exactly the same format;\n    - passing `format='mixed'`, and the format will be inferred for each element individually. You might want to use `dayfirst` alongside this.",
     "output_type": "error",
     "traceback": [
      "\u001b[1;31m---------------------------------------------------------------------------\u001b[0m",
      "\u001b[1;31mValueError\u001b[0m                                Traceback (most recent call last)",
      "Cell \u001b[1;32mIn[9], line 1\u001b[0m\n\u001b[1;32m----> 1\u001b[0m df_1[\u001b[38;5;124m'\u001b[39m\u001b[38;5;124mTimestamp\u001b[39m\u001b[38;5;124m'\u001b[39m] \u001b[38;5;241m=\u001b[39m \u001b[43mpd\u001b[49m\u001b[38;5;241;43m.\u001b[39;49m\u001b[43mto_datetime\u001b[49m\u001b[43m(\u001b[49m\u001b[43mdf_1\u001b[49m\u001b[43m[\u001b[49m\u001b[38;5;124;43m'\u001b[39;49m\u001b[38;5;124;43mDate \u001b[39;49m\u001b[38;5;124;43m'\u001b[39;49m\u001b[43m]\u001b[49m\u001b[43m \u001b[49m\u001b[38;5;241;43m+\u001b[39;49m\u001b[43m \u001b[49m\u001b[38;5;124;43m'\u001b[39;49m\u001b[38;5;124;43m \u001b[39;49m\u001b[38;5;124;43m'\u001b[39;49m\u001b[43m \u001b[49m\u001b[38;5;241;43m+\u001b[39;49m\u001b[43m \u001b[49m\u001b[43mdf_1\u001b[49m\u001b[43m[\u001b[49m\u001b[38;5;124;43m'\u001b[39;49m\u001b[38;5;124;43mTime\u001b[39;49m\u001b[38;5;124;43m'\u001b[39;49m\u001b[43m]\u001b[49m\u001b[43m,\u001b[49m\u001b[43m \u001b[49m\u001b[38;5;28;43mformat\u001b[39;49m\u001b[38;5;241;43m=\u001b[39;49m\u001b[38;5;124;43m'\u001b[39;49m\u001b[38;5;132;43;01m%d\u001b[39;49;00m\u001b[38;5;124;43m/\u001b[39;49m\u001b[38;5;124;43m%\u001b[39;49m\u001b[38;5;124;43mm/\u001b[39;49m\u001b[38;5;124;43m%\u001b[39;49m\u001b[38;5;124;43mY \u001b[39;49m\u001b[38;5;124;43m%\u001b[39;49m\u001b[38;5;124;43mH:\u001b[39;49m\u001b[38;5;124;43m%\u001b[39;49m\u001b[38;5;124;43mM.\u001b[39;49m\u001b[38;5;124;43m%\u001b[39;49m\u001b[38;5;124;43mS\u001b[39;49m\u001b[38;5;124;43m'\u001b[39;49m\u001b[43m)\u001b[49m\n",
      "File \u001b[1;32mD:\\random_apps\\Miniconda\\envs\\licenta\\Lib\\site-packages\\pandas\\core\\tools\\datetimes.py:1067\u001b[0m, in \u001b[0;36mto_datetime\u001b[1;34m(arg, errors, dayfirst, yearfirst, utc, format, exact, unit, infer_datetime_format, origin, cache)\u001b[0m\n\u001b[0;32m   1065\u001b[0m         result \u001b[38;5;241m=\u001b[39m arg\u001b[38;5;241m.\u001b[39mmap(cache_array)\n\u001b[0;32m   1066\u001b[0m     \u001b[38;5;28;01melse\u001b[39;00m:\n\u001b[1;32m-> 1067\u001b[0m         values \u001b[38;5;241m=\u001b[39m \u001b[43mconvert_listlike\u001b[49m\u001b[43m(\u001b[49m\u001b[43marg\u001b[49m\u001b[38;5;241;43m.\u001b[39;49m\u001b[43m_values\u001b[49m\u001b[43m,\u001b[49m\u001b[43m \u001b[49m\u001b[38;5;28;43mformat\u001b[39;49m\u001b[43m)\u001b[49m\n\u001b[0;32m   1068\u001b[0m         result \u001b[38;5;241m=\u001b[39m arg\u001b[38;5;241m.\u001b[39m_constructor(values, index\u001b[38;5;241m=\u001b[39marg\u001b[38;5;241m.\u001b[39mindex, name\u001b[38;5;241m=\u001b[39marg\u001b[38;5;241m.\u001b[39mname)\n\u001b[0;32m   1069\u001b[0m \u001b[38;5;28;01melif\u001b[39;00m \u001b[38;5;28misinstance\u001b[39m(arg, (ABCDataFrame, abc\u001b[38;5;241m.\u001b[39mMutableMapping)):\n",
      "File \u001b[1;32mD:\\random_apps\\Miniconda\\envs\\licenta\\Lib\\site-packages\\pandas\\core\\tools\\datetimes.py:433\u001b[0m, in \u001b[0;36m_convert_listlike_datetimes\u001b[1;34m(arg, format, name, utc, unit, errors, dayfirst, yearfirst, exact)\u001b[0m\n\u001b[0;32m    431\u001b[0m \u001b[38;5;66;03m# `format` could be inferred, or user didn't ask for mixed-format parsing.\u001b[39;00m\n\u001b[0;32m    432\u001b[0m \u001b[38;5;28;01mif\u001b[39;00m \u001b[38;5;28mformat\u001b[39m \u001b[38;5;129;01mis\u001b[39;00m \u001b[38;5;129;01mnot\u001b[39;00m \u001b[38;5;28;01mNone\u001b[39;00m \u001b[38;5;129;01mand\u001b[39;00m \u001b[38;5;28mformat\u001b[39m \u001b[38;5;241m!=\u001b[39m \u001b[38;5;124m\"\u001b[39m\u001b[38;5;124mmixed\u001b[39m\u001b[38;5;124m\"\u001b[39m:\n\u001b[1;32m--> 433\u001b[0m     \u001b[38;5;28;01mreturn\u001b[39;00m \u001b[43m_array_strptime_with_fallback\u001b[49m\u001b[43m(\u001b[49m\u001b[43marg\u001b[49m\u001b[43m,\u001b[49m\u001b[43m \u001b[49m\u001b[43mname\u001b[49m\u001b[43m,\u001b[49m\u001b[43m \u001b[49m\u001b[43mutc\u001b[49m\u001b[43m,\u001b[49m\u001b[43m \u001b[49m\u001b[38;5;28;43mformat\u001b[39;49m\u001b[43m,\u001b[49m\u001b[43m \u001b[49m\u001b[43mexact\u001b[49m\u001b[43m,\u001b[49m\u001b[43m \u001b[49m\u001b[43merrors\u001b[49m\u001b[43m)\u001b[49m\n\u001b[0;32m    435\u001b[0m result, tz_parsed \u001b[38;5;241m=\u001b[39m objects_to_datetime64(\n\u001b[0;32m    436\u001b[0m     arg,\n\u001b[0;32m    437\u001b[0m     dayfirst\u001b[38;5;241m=\u001b[39mdayfirst,\n\u001b[1;32m   (...)\u001b[0m\n\u001b[0;32m    441\u001b[0m     allow_object\u001b[38;5;241m=\u001b[39m\u001b[38;5;28;01mTrue\u001b[39;00m,\n\u001b[0;32m    442\u001b[0m )\n\u001b[0;32m    444\u001b[0m \u001b[38;5;28;01mif\u001b[39;00m tz_parsed \u001b[38;5;129;01mis\u001b[39;00m \u001b[38;5;129;01mnot\u001b[39;00m \u001b[38;5;28;01mNone\u001b[39;00m:\n\u001b[0;32m    445\u001b[0m     \u001b[38;5;66;03m# We can take a shortcut since the datetime64 numpy array\u001b[39;00m\n\u001b[0;32m    446\u001b[0m     \u001b[38;5;66;03m# is in UTC\u001b[39;00m\n",
      "File \u001b[1;32mD:\\random_apps\\Miniconda\\envs\\licenta\\Lib\\site-packages\\pandas\\core\\tools\\datetimes.py:467\u001b[0m, in \u001b[0;36m_array_strptime_with_fallback\u001b[1;34m(arg, name, utc, fmt, exact, errors)\u001b[0m\n\u001b[0;32m    456\u001b[0m \u001b[38;5;28;01mdef\u001b[39;00m \u001b[38;5;21m_array_strptime_with_fallback\u001b[39m(\n\u001b[0;32m    457\u001b[0m     arg,\n\u001b[0;32m    458\u001b[0m     name,\n\u001b[1;32m   (...)\u001b[0m\n\u001b[0;32m    462\u001b[0m     errors: \u001b[38;5;28mstr\u001b[39m,\n\u001b[0;32m    463\u001b[0m ) \u001b[38;5;241m-\u001b[39m\u001b[38;5;241m>\u001b[39m Index:\n\u001b[0;32m    464\u001b[0m \u001b[38;5;250m    \u001b[39m\u001b[38;5;124;03m\"\"\"\u001b[39;00m\n\u001b[0;32m    465\u001b[0m \u001b[38;5;124;03m    Call array_strptime, with fallback behavior depending on 'errors'.\u001b[39;00m\n\u001b[0;32m    466\u001b[0m \u001b[38;5;124;03m    \"\"\"\u001b[39;00m\n\u001b[1;32m--> 467\u001b[0m     result, tz_out \u001b[38;5;241m=\u001b[39m \u001b[43marray_strptime\u001b[49m\u001b[43m(\u001b[49m\u001b[43marg\u001b[49m\u001b[43m,\u001b[49m\u001b[43m \u001b[49m\u001b[43mfmt\u001b[49m\u001b[43m,\u001b[49m\u001b[43m \u001b[49m\u001b[43mexact\u001b[49m\u001b[38;5;241;43m=\u001b[39;49m\u001b[43mexact\u001b[49m\u001b[43m,\u001b[49m\u001b[43m \u001b[49m\u001b[43merrors\u001b[49m\u001b[38;5;241;43m=\u001b[39;49m\u001b[43merrors\u001b[49m\u001b[43m,\u001b[49m\u001b[43m \u001b[49m\u001b[43mutc\u001b[49m\u001b[38;5;241;43m=\u001b[39;49m\u001b[43mutc\u001b[49m\u001b[43m)\u001b[49m\n\u001b[0;32m    468\u001b[0m     \u001b[38;5;28;01mif\u001b[39;00m tz_out \u001b[38;5;129;01mis\u001b[39;00m \u001b[38;5;129;01mnot\u001b[39;00m \u001b[38;5;28;01mNone\u001b[39;00m:\n\u001b[0;32m    469\u001b[0m         unit \u001b[38;5;241m=\u001b[39m np\u001b[38;5;241m.\u001b[39mdatetime_data(result\u001b[38;5;241m.\u001b[39mdtype)[\u001b[38;5;241m0\u001b[39m]\n",
      "File \u001b[1;32mstrptime.pyx:501\u001b[0m, in \u001b[0;36mpandas._libs.tslibs.strptime.array_strptime\u001b[1;34m()\u001b[0m\n",
      "File \u001b[1;32mstrptime.pyx:451\u001b[0m, in \u001b[0;36mpandas._libs.tslibs.strptime.array_strptime\u001b[1;34m()\u001b[0m\n",
      "File \u001b[1;32mstrptime.pyx:583\u001b[0m, in \u001b[0;36mpandas._libs.tslibs.strptime._parse_with_format\u001b[1;34m()\u001b[0m\n",
      "\u001b[1;31mValueError\u001b[0m: time data \"10/9/17 00:00.0\" doesn't match format \"%d/%m/%Y %H:%M.%S\", at position 0. You might want to try:\n    - passing `format` if your strings have a consistent format;\n    - passing `format='ISO8601'` if your strings are all ISO8601 but not necessarily in exactly the same format;\n    - passing `format='mixed'`, and the format will be inferred for each element individually. You might want to use `dayfirst` alongside this."
     ]
    }
   ],
   "source": [
    "df_1['Timestamp'] = pd.to_datetime(df_1['Date '] + ' ' + df_1['Time'], format='%d/%m/%Y %H:%M.%S')\n"
   ]
  },
  {
   "cell_type": "code",
   "execution_count": null,
   "id": "787b7f27-aa28-4fef-84ff-c72e69f73f11",
   "metadata": {},
   "outputs": [],
   "source": []
  },
  {
   "cell_type": "code",
   "execution_count": 5,
   "id": "4ff4fa7c-63b9-4641-88ec-3513b5dd4b97",
   "metadata": {},
   "outputs": [],
   "source": [
    "# Initially the normal operation dataset did not have an attack label feature so we have to add it ourselves\n",
    "\n",
    "df_2['Attack LABLE (1:No Attack, -1:Attack)'] = 1\n",
    "\n",
    "df = pd.concat([df_1, df_2], axis = 0)"
   ]
  },
  {
   "cell_type": "code",
   "execution_count": 6,
   "id": "0e35cc50-83e4-49d6-892f-728384d447c6",
   "metadata": {
    "editable": true,
    "slideshow": {
     "slide_type": ""
    },
    "tags": []
   },
   "outputs": [],
   "source": [
    "# We also have to drop the following columns because they only have missing values\n",
    "\n",
    "df = df.drop(columns = ['2_LS_001_AL', '2_LS_002_AL', '2_P_001_STATUS', '2_P_002_STATUS'])"
   ]
  },
  {
   "cell_type": "code",
   "execution_count": 7,
   "id": "0be0b272-435e-4078-bcb1-5518daf5fd3b",
   "metadata": {},
   "outputs": [],
   "source": [
    "# We use a simple imputer for the rest of the missing values -> strategy = MOST_FREQUENT\n",
    "\n",
    "imp = SimpleImputer(strategy=\"most_frequent\")\n",
    "df_prep = pd.DataFrame(imp.fit_transform(df))"
   ]
  },
  {
   "cell_type": "code",
   "execution_count": 8,
   "id": "f0c7d564-5e6f-458a-9c9c-136f0dc8bb68",
   "metadata": {
    "editable": true,
    "slideshow": {
     "slide_type": ""
    },
    "tags": []
   },
   "outputs": [],
   "source": [
    "# And we restore the initial index and columns\n",
    "\n",
    "df_prep.columns = df.columns\n",
    "df_prep.index = df.index\n",
    "df = df_prep"
   ]
  },
  {
   "cell_type": "code",
   "execution_count": 9,
   "id": "1347842a-3246-46f4-b43b-e6887d5f6e04",
   "metadata": {},
   "outputs": [],
   "source": [
    "# Finally, we define a custom dictionary for all the scoring functions that we will use in evaluating algorithms\n",
    "\n",
    "scoring = {'accuracy': make_scorer(accuracy_score),\n",
    "           'precision': make_scorer(precision_score),\n",
    "           'recall': make_scorer(recall_score),\n",
    "           'f1': make_scorer(f1_score)\n",
    "          }"
   ]
  },
  {
   "cell_type": "markdown",
   "id": "dec9b3a8-8afa-49b4-ba7f-aba18ad1565e",
   "metadata": {},
   "source": [
    "# Training and testing algorithms:"
   ]
  },
  {
   "cell_type": "code",
   "execution_count": 10,
   "id": "43ae47ef-365d-4dde-aabf-773272d4f195",
   "metadata": {},
   "outputs": [],
   "source": [
    "X = df.drop('Attack LABLE (1:No Attack, -1:Attack)', axis=1)\n",
    "y = df['Attack LABLE (1:No Attack, -1:Attack)']"
   ]
  },
  {
   "cell_type": "markdown",
   "id": "22b46ce8-8308-4003-8b3a-a859ae6c47c5",
   "metadata": {},
   "source": [
    "## AdaBoostClassifier"
   ]
  },
  {
   "cell_type": "code",
   "execution_count": 11,
   "id": "2d9cca01-3d08-4d1c-943c-8e1ac773c6d0",
   "metadata": {
    "editable": true,
    "slideshow": {
     "slide_type": ""
    },
    "tags": []
   },
   "outputs": [],
   "source": [
    "model_abclf = AdaBoostClassifier(algorithm='SAMME', random_state=42)\n",
    "scores = cross_validate(model_abclf, X, y, cv=10, scoring=scoring)"
   ]
  },
  {
   "cell_type": "code",
   "execution_count": 12,
   "id": "1c7eff8e-7eda-4092-b116-77bf7fab57b1",
   "metadata": {
    "editable": true,
    "slideshow": {
     "slide_type": ""
    },
    "tags": []
   },
   "outputs": [
    {
     "name": "stdout",
     "output_type": "stream",
     "text": [
      "Fit_time: 214.4625 ± 4.0250\n",
      "\n",
      "Score_time: 1.7773 ± 0.1254\n",
      "\n",
      "Test_accuracy: 0.9640 ± 0.0655\n",
      "\n",
      "Test_precision: 0.9914 ± 0.0022\n",
      "\n",
      "Test_recall: 0.9722 ± 0.0681\n",
      "\n",
      "Test_f1: 0.9803 ± 0.0373\n",
      "\n"
     ]
    }
   ],
   "source": [
    "for score_name, score_values in scores.items():\n",
    "    print(f\"{score_name.capitalize()}: {score_values.mean():.4f} ± {score_values.std():.4f}\")\n",
    "    print()"
   ]
  },
  {
   "cell_type": "markdown",
   "id": "483eadcc-9598-49c4-af78-084846532bfe",
   "metadata": {},
   "source": [
    "## BaggingClassifier"
   ]
  },
  {
   "cell_type": "code",
   "execution_count": 13,
   "id": "0a6c56fa-4cc8-4833-a4ee-d729f0f142bd",
   "metadata": {},
   "outputs": [],
   "source": [
    "model_bclf = BaggingClassifier(random_state=42)\n",
    "scores = cross_validate(model_bclf, X, y, cv=10, scoring=scoring)"
   ]
  },
  {
   "cell_type": "code",
   "execution_count": 14,
   "id": "e12fb3d0-c0ac-4087-a80e-0f20aeb59733",
   "metadata": {},
   "outputs": [
    {
     "name": "stdout",
     "output_type": "stream",
     "text": [
      "Fit_time: 354.3228 ± 59.6237\n",
      "\n",
      "Score_time: 0.7812 ± 0.0814\n",
      "\n",
      "Test_accuracy: 0.9399 ± 0.1050\n",
      "\n",
      "Test_precision: 0.9930 ± 0.0028\n",
      "\n",
      "Test_recall: 0.9459 ± 0.1064\n",
      "\n",
      "Test_f1: 0.9655 ± 0.0625\n",
      "\n"
     ]
    }
   ],
   "source": [
    "for score_name, score_values in scores.items():\n",
    "    print(f\"{score_name.capitalize()}: {score_values.mean():.4f} ± {score_values.std():.4f}\")\n",
    "    print()"
   ]
  },
  {
   "cell_type": "markdown",
   "id": "1cef8de5-e204-43fb-8150-9f61cd15406e",
   "metadata": {},
   "source": [
    "## DecisionTreeClassifier"
   ]
  },
  {
   "cell_type": "code",
   "execution_count": 15,
   "id": "e304df02-215f-4f4a-9389-88e568ea828a",
   "metadata": {},
   "outputs": [],
   "source": [
    "model_dtclf = DecisionTreeClassifier(random_state=42)\n",
    "scores = cross_validate(model_dtclf, X, y, cv=10, scoring=scoring)"
   ]
  },
  {
   "cell_type": "code",
   "execution_count": 16,
   "id": "93415b60-de7f-442e-a3f4-fb2c4079a9ff",
   "metadata": {},
   "outputs": [
    {
     "name": "stdout",
     "output_type": "stream",
     "text": [
      "Fit_time: 50.9079 ± 11.8715\n",
      "\n",
      "Score_time: 0.1404 ± 0.0084\n",
      "\n",
      "Test_accuracy: 0.9418 ± 0.1001\n",
      "\n",
      "Test_precision: 0.9933 ± 0.0028\n",
      "\n",
      "Test_recall: 0.9475 ± 0.1010\n",
      "\n",
      "Test_f1: 0.9669 ± 0.0590\n",
      "\n"
     ]
    }
   ],
   "source": [
    "for score_name, score_values in scores.items():\n",
    "    print(f\"{score_name.capitalize()}: {score_values.mean():.4f} ± {score_values.std():.4f}\")\n",
    "    print()"
   ]
  },
  {
   "cell_type": "markdown",
   "id": "85da9255-e682-47e6-9a1c-ad28e191d9d2",
   "metadata": {},
   "source": [
    "## RandomForestClassifier"
   ]
  },
  {
   "cell_type": "code",
   "execution_count": 17,
   "id": "b74fbdb6-0fa6-4175-81fd-36c40abd77e5",
   "metadata": {},
   "outputs": [],
   "source": [
    "model_rfclf = RandomForestClassifier(random_state=42)\n",
    "scores = cross_validate(model_dtclf, X, y, cv=10, scoring=scoring)"
   ]
  },
  {
   "cell_type": "code",
   "execution_count": 18,
   "id": "b10235a5-6485-43a4-9193-5641dea39cca",
   "metadata": {},
   "outputs": [
    {
     "name": "stdout",
     "output_type": "stream",
     "text": [
      "Fit_time: 50.7097 ± 11.6313\n",
      "\n",
      "Score_time: 0.1358 ± 0.0023\n",
      "\n",
      "Test_accuracy: 0.9418 ± 0.1001\n",
      "\n",
      "Test_precision: 0.9933 ± 0.0028\n",
      "\n",
      "Test_recall: 0.9475 ± 0.1010\n",
      "\n",
      "Test_f1: 0.9669 ± 0.0590\n",
      "\n"
     ]
    }
   ],
   "source": [
    "for score_name, score_values in scores.items():\n",
    "    print(f\"{score_name.capitalize()}: {score_values.mean():.4f} ± {score_values.std():.4f}\")\n",
    "    print()"
   ]
  },
  {
   "cell_type": "markdown",
   "id": "9b09a31b-8e4b-4eb6-bf47-3173c7d019dd",
   "metadata": {},
   "source": [
    "## ExtraTreesClassifier"
   ]
  },
  {
   "cell_type": "code",
   "execution_count": 19,
   "id": "11b9b19f-060b-4dc0-bd9d-5b92ac37ff78",
   "metadata": {},
   "outputs": [],
   "source": [
    "model_etclf = ExtraTreesClassifier(random_state=42)\n",
    "scores = cross_validate(model_etclf, X, y, cv=10, scoring=scoring)"
   ]
  },
  {
   "cell_type": "code",
   "execution_count": 20,
   "id": "98ea4d79-518a-46ea-bab8-876a2d6673f9",
   "metadata": {},
   "outputs": [
    {
     "name": "stdout",
     "output_type": "stream",
     "text": [
      "Fit_time: 40.8681 ± 1.7544\n",
      "\n",
      "Score_time: 0.4043 ± 0.0201\n",
      "\n",
      "Test_accuracy: 0.9734 ± 0.0434\n",
      "\n",
      "Test_precision: 0.9943 ± 0.0028\n",
      "\n",
      "Test_recall: 0.9788 ± 0.0440\n",
      "\n",
      "Test_f1: 0.9860 ± 0.0233\n",
      "\n"
     ]
    }
   ],
   "source": [
    "for score_name, score_values in scores.items():\n",
    "    print(f\"{score_name.capitalize()}: {score_values.mean():.4f} ± {score_values.std():.4f}\")\n",
    "    print()"
   ]
  },
  {
   "cell_type": "markdown",
   "id": "1d5dc1e7-9459-4a7e-88f5-b1ae83b79eb1",
   "metadata": {},
   "source": [
    "## GradientBoostingClassifier"
   ]
  },
  {
   "cell_type": "code",
   "execution_count": null,
   "id": "eab02675-dbf5-40bc-aaba-171d31b8185c",
   "metadata": {
    "editable": true,
    "slideshow": {
     "slide_type": ""
    },
    "tags": []
   },
   "outputs": [],
   "source": [
    "model_gbclf = GradientBoostingClassifier(random_state=42)\n",
    "scores = cross_validate(model_gbclf, X, y, cv=10, scoring=scoring)"
   ]
  },
  {
   "cell_type": "code",
   "execution_count": null,
   "id": "7357990c-4fe6-4aa9-9a15-d290bcca27c9",
   "metadata": {},
   "outputs": [],
   "source": [
    "for score_name, score_values in scores.items():\n",
    "    print(f\"{score_name.capitalize()}: {score_values.mean():.4f} ± {score_values.std():.4f}\")\n",
    "    print()"
   ]
  },
  {
   "cell_type": "markdown",
   "id": "cb1f809a-ce96-4e7f-ad68-9c6f2290a8e1",
   "metadata": {},
   "source": [
    "## HistGradientBoostingClassifier"
   ]
  },
  {
   "cell_type": "code",
   "execution_count": null,
   "id": "d48b91ad-b903-4486-871f-b0a84ccd4352",
   "metadata": {},
   "outputs": [],
   "source": [
    "model_hgbclf = HistGradientBoostingClassifier(random_state=42)\n",
    "scores = cross_validate(model_hgbclf, X, y, cv=10, scoring=scoring)"
   ]
  },
  {
   "cell_type": "code",
   "execution_count": null,
   "id": "4b6b9bd6-8856-4b9b-ad9d-c9d8c96c65fa",
   "metadata": {},
   "outputs": [],
   "source": [
    "for score_name, score_values in scores.items():\n",
    "    print(f\"{score_name.capitalize()}: {score_values.mean():.4f} ± {score_values.std():.4f}\")\n",
    "    print()"
   ]
  }
 ],
 "metadata": {
  "kernelspec": {
   "display_name": "Python 3 (ipykernel)",
   "language": "python",
   "name": "python3"
  },
  "language_info": {
   "codemirror_mode": {
    "name": "ipython",
    "version": 3
   },
   "file_extension": ".py",
   "mimetype": "text/x-python",
   "name": "python",
   "nbconvert_exporter": "python",
   "pygments_lexer": "ipython3",
   "version": "3.12.3"
  }
 },
 "nbformat": 4,
 "nbformat_minor": 5
}
