{
 "cells": [
  {
   "cell_type": "markdown",
   "id": "c8f87ae5-cf51-4a6a-bc67-2d960ca4c20b",
   "metadata": {},
   "source": [
    "# Used libraries"
   ]
  },
  {
   "cell_type": "code",
   "execution_count": 1,
   "id": "585cbe84-da07-4dc0-a273-eb5c33f46859",
   "metadata": {},
   "outputs": [],
   "source": [
    "import os\n",
    "import pandas as pd\n",
    "\n",
    "from sklearn.model_selection import cross_val_predict\n",
    "from sklearn.impute import SimpleImputer\n",
    "\n",
    "from sklearn.metrics import average_precision_score"
   ]
  },
  {
   "cell_type": "markdown",
   "id": "0c603a37-c0f5-4f29-9076-6b78282ce465",
   "metadata": {},
   "source": [
    "# Used algorithms"
   ]
  },
  {
   "cell_type": "code",
   "execution_count": 2,
   "id": "86d517ca-4fdc-4428-a07d-e4787661d62b",
   "metadata": {},
   "outputs": [],
   "source": [
    "from sklearn.ensemble import AdaBoostClassifier\n",
    "from sklearn.ensemble import ExtraTreesClassifier\n",
    "from sklearn.ensemble import GradientBoostingClassifier\n",
    "from sklearn.ensemble import BaggingClassifier\n",
    "from sklearn.ensemble import HistGradientBoostingClassifier\n",
    "from sklearn.ensemble import RandomForestClassifier\n",
    "from sklearn.tree import DecisionTreeClassifier"
   ]
  },
  {
   "cell_type": "markdown",
   "id": "b272190e-35aa-4281-91cf-e75026a31438",
   "metadata": {
    "editable": true,
    "slideshow": {
     "slide_type": ""
    },
    "tags": []
   },
   "source": [
    "# Data"
   ]
  },
  {
   "cell_type": "code",
   "execution_count": 3,
   "id": "dcfd1cc4-da5f-407b-9072-ce10c3b21853",
   "metadata": {},
   "outputs": [],
   "source": [
    "# We have to merge the dataset containing attack data and the dataset containing data under normal operation\n",
    "\n",
    "path_1 = os.path.join(os.getcwd(), \"../../datasets/WADI_attackdataLABLE.csv\")\n",
    "path_2 = os.path.join(os.getcwd(), \"../../datasets/WADI_14days_new.csv\")\n",
    "\n",
    "df_1 = pd.read_csv(path_1, header = 1, sep = ',')\n",
    "df_2 = pd.read_csv(path_2, header = 0, sep = ',')"
   ]
  },
  {
   "cell_type": "code",
   "execution_count": 4,
   "id": "14b7965f-0d58-441f-ba61-8856152dec5b",
   "metadata": {},
   "outputs": [],
   "source": [
    "# Row column is trivial, Date and Time columns are not relevant for testing so we drop them\n",
    "\n",
    "df_1 = df_1.drop(columns = ['Row ', 'Date ', 'Time'])\n",
    "df_2 = df_2.drop(columns = ['Row', 'Date', 'Time'])"
   ]
  },
  {
   "cell_type": "code",
   "execution_count": 5,
   "id": "4ff4fa7c-63b9-4641-88ec-3513b5dd4b97",
   "metadata": {},
   "outputs": [],
   "source": [
    "# Initially the normal operation dataset did not have an attack label feature so we have to add it ourselves\n",
    "\n",
    "df_2['Attack LABLE (1:No Attack, -1:Attack)'] = 1\n",
    "\n",
    "df = pd.concat([df_1, df_2], axis = 0)"
   ]
  },
  {
   "cell_type": "code",
   "execution_count": 6,
   "id": "0e35cc50-83e4-49d6-892f-728384d447c6",
   "metadata": {
    "editable": true,
    "slideshow": {
     "slide_type": ""
    },
    "tags": []
   },
   "outputs": [],
   "source": [
    "# We also have to drop the following columns because they only have missing values\n",
    "\n",
    "df = df.drop(columns = ['2_LS_001_AL', '2_LS_002_AL', '2_P_001_STATUS', '2_P_002_STATUS'])"
   ]
  },
  {
   "cell_type": "code",
   "execution_count": 7,
   "id": "bccf008f-dd1e-48bc-bef8-8a9d350a2a0d",
   "metadata": {},
   "outputs": [],
   "source": [
    "# We use a simple imputer for the rest of the missing values -> strategy = MEAN\n",
    "\n",
    "imp = SimpleImputer(strategy=\"mean\")\n",
    "df_prep = pd.DataFrame(imp.fit_transform(df))"
   ]
  },
  {
   "cell_type": "code",
   "execution_count": 8,
   "id": "f09327de-bead-471f-a908-e02162f76766",
   "metadata": {},
   "outputs": [],
   "source": [
    "# And we restore the initial index and columns\n",
    "\n",
    "df_prep.columns = df.columns\n",
    "df_prep.index = df.index\n",
    "df = df_prep"
   ]
  },
  {
   "cell_type": "markdown",
   "id": "dec9b3a8-8afa-49b4-ba7f-aba18ad1565e",
   "metadata": {},
   "source": [
    "# Training and testing all algorithms for measuring Average Precision Score:"
   ]
  },
  {
   "cell_type": "code",
   "execution_count": 9,
   "id": "43ae47ef-365d-4dde-aabf-773272d4f195",
   "metadata": {},
   "outputs": [],
   "source": [
    "X = df.drop('Attack LABLE (1:No Attack, -1:Attack)', axis=1)\n",
    "y = df['Attack LABLE (1:No Attack, -1:Attack)']"
   ]
  },
  {
   "cell_type": "code",
   "execution_count": 10,
   "id": "28c4c631-ab1f-49b0-a5c5-feb1d88d1c5d",
   "metadata": {},
   "outputs": [],
   "source": [
    "# VERY IMPORTANT, we reverse the tags so that the minority class (Attack) is considered for evaluation\n",
    "\n",
    "y = y.replace({-1: 1, 1: 0})"
   ]
  },
  {
   "cell_type": "markdown",
   "id": "22b46ce8-8308-4003-8b3a-a859ae6c47c5",
   "metadata": {},
   "source": [
    "## Define all classification models"
   ]
  },
  {
   "cell_type": "code",
   "execution_count": 11,
   "id": "2d9cca01-3d08-4d1c-943c-8e1ac773c6d0",
   "metadata": {
    "editable": true,
    "slideshow": {
     "slide_type": ""
    },
    "tags": []
   },
   "outputs": [],
   "source": [
    "classifiers = {\n",
    "    'AdaBoost': AdaBoostClassifier(random_state=42),\n",
    "    'Bagging': BaggingClassifier(random_state=42),\n",
    "    'Decision Tree': DecisionTreeClassifier(random_state=42),\n",
    "    'Random Forest': RandomForestClassifier(random_state=42),\n",
    "    'Extra Trees': ExtraTreesClassifier(random_state=42),\n",
    "    'Gradient Boosting': GradientBoostingClassifier(random_state=42),\n",
    "    'HistGradientBoosting': HistGradientBoostingClassifier(random_state=42)\n",
    "}"
   ]
  },
  {
   "cell_type": "markdown",
   "id": "a4b943c0-6e2e-4a93-8882-f448fabf532e",
   "metadata": {},
   "source": [
    "## Calculate the Average Precision Score for all trained models (the text label is misleading and was a mistake)"
   ]
  },
  {
   "cell_type": "code",
   "execution_count": 12,
   "id": "0be80a4d-8045-4ddb-9a4d-e212acc64cd3",
   "metadata": {},
   "outputs": [
    {
     "name": "stdout",
     "output_type": "stream",
     "text": [
      "AdaBoost: Precision-Recall AUC = 0.0743\n",
      "\n",
      "Bagging: Precision-Recall AUC = 0.0592\n",
      "\n",
      "Decision Tree: Precision-Recall AUC = 0.0336\n",
      "\n",
      "Random Forest: Precision-Recall AUC = 0.0911\n",
      "\n",
      "Extra Trees: Precision-Recall AUC = 0.1169\n",
      "\n",
      "Gradient Boosting: Precision-Recall AUC = 0.0943\n",
      "\n",
      "HistGradientBoosting: Precision-Recall AUC = 0.0634\n",
      "\n"
     ]
    }
   ],
   "source": [
    "for clf_name, clf in classifiers.items():\n",
    "    y_pred_proba = cross_val_predict(clf, X, y, cv=10, method='predict_proba', n_jobs=3)[:, 1]\n",
    "    score = average_precision_score(y, y_pred_proba)\n",
    "    print(f\"{clf_name}: Precision-Recall AUC = {score:.4f}\")\n",
    "    print()"
   ]
  }
 ],
 "metadata": {
  "kernelspec": {
   "display_name": "Python 3 (ipykernel)",
   "language": "python",
   "name": "python3"
  },
  "language_info": {
   "codemirror_mode": {
    "name": "ipython",
    "version": 3
   },
   "file_extension": ".py",
   "mimetype": "text/x-python",
   "name": "python",
   "nbconvert_exporter": "python",
   "pygments_lexer": "ipython3",
   "version": "3.12.3"
  }
 },
 "nbformat": 4,
 "nbformat_minor": 5
}
