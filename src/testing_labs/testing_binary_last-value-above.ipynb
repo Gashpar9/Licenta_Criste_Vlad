{
 "cells": [
  {
   "cell_type": "markdown",
   "id": "c8f87ae5-cf51-4a6a-bc67-2d960ca4c20b",
   "metadata": {},
   "source": [
    "# Used libraries"
   ]
  },
  {
   "cell_type": "code",
   "execution_count": 1,
   "id": "585cbe84-da07-4dc0-a273-eb5c33f46859",
   "metadata": {},
   "outputs": [],
   "source": [
    "import os\n",
    "import pandas as pd\n",
    "\n",
    "from sklearn.model_selection import cross_validate\n",
    "from sklearn.impute import SimpleImputer\n",
    "\n",
    "from sklearn.metrics import make_scorer, accuracy_score, precision_score, recall_score, f1_score"
   ]
  },
  {
   "cell_type": "markdown",
   "id": "0c603a37-c0f5-4f29-9076-6b78282ce465",
   "metadata": {},
   "source": [
    "# Used algorithms"
   ]
  },
  {
   "cell_type": "code",
   "execution_count": 2,
   "id": "86d517ca-4fdc-4428-a07d-e4787661d62b",
   "metadata": {},
   "outputs": [],
   "source": [
    "from sklearn.ensemble import AdaBoostClassifier\n",
    "from sklearn.ensemble import ExtraTreesClassifier\n",
    "from sklearn.ensemble import GradientBoostingClassifier\n",
    "from sklearn.ensemble import BaggingClassifier\n",
    "from sklearn.ensemble import HistGradientBoostingClassifier\n",
    "from sklearn.ensemble import RandomForestClassifier\n",
    "from sklearn.tree import DecisionTreeClassifier"
   ]
  },
  {
   "cell_type": "markdown",
   "id": "b272190e-35aa-4281-91cf-e75026a31438",
   "metadata": {
    "editable": true,
    "slideshow": {
     "slide_type": ""
    },
    "tags": []
   },
   "source": [
    "# Data"
   ]
  },
  {
   "cell_type": "code",
   "execution_count": 3,
   "id": "dcfd1cc4-da5f-407b-9072-ce10c3b21853",
   "metadata": {},
   "outputs": [],
   "source": [
    "# We have to merge the dataset containing attack data and the dataset containing data under normal operation\n",
    "\n",
    "path_1 = os.path.join(os.getcwd(), \"../../datasets/WADI_attackdataLABLE.csv\")\n",
    "path_2 = os.path.join(os.getcwd(), \"../../datasets/WADI_14days_new.csv\")\n",
    "\n",
    "df_1 = pd.read_csv(path_1, header = 1, sep = ',')\n",
    "df_2 = pd.read_csv(path_2, header = 0, sep = ',')"
   ]
  },
  {
   "cell_type": "code",
   "execution_count": 4,
   "id": "14b7965f-0d58-441f-ba61-8856152dec5b",
   "metadata": {},
   "outputs": [],
   "source": [
    "# Row column is trivial, Date and Time columns are not relevant for testing so we drop them\n",
    "\n",
    "df_1 = df_1.drop(columns = ['Row ', 'Date ', 'Time'])\n",
    "df_2 = df_2.drop(columns = ['Row', 'Date', 'Time'])"
   ]
  },
  {
   "cell_type": "code",
   "execution_count": 5,
   "id": "4ff4fa7c-63b9-4641-88ec-3513b5dd4b97",
   "metadata": {},
   "outputs": [],
   "source": [
    "# Initially the normal operation dataset did not have an attack label feature so we have to add it ourselves\n",
    "\n",
    "df_2['Attack LABLE (1:No Attack, -1:Attack)'] = 1\n",
    "\n",
    "df = pd.concat([df_1, df_2], axis = 0)"
   ]
  },
  {
   "cell_type": "code",
   "execution_count": 6,
   "id": "0e35cc50-83e4-49d6-892f-728384d447c6",
   "metadata": {
    "editable": true,
    "slideshow": {
     "slide_type": ""
    },
    "tags": []
   },
   "outputs": [],
   "source": [
    "# We also have to drop the following columns because they only have missing values\n",
    "\n",
    "df = df.drop(columns = ['2_LS_001_AL', '2_LS_002_AL', '2_P_001_STATUS', '2_P_002_STATUS'])"
   ]
  },
  {
   "cell_type": "code",
   "execution_count": 7,
   "id": "0be0b272-435e-4078-bcb1-5518daf5fd3b",
   "metadata": {},
   "outputs": [],
   "source": [
    "# We use the fillna pandas method with a forward filling strategy for the rest of the missing values -> strategy = LAST VALUE ABOVE\n",
    "\n",
    "df.fillna(method='ffill', inplace=True)"
   ]
  },
  {
   "cell_type": "code",
   "execution_count": 9,
   "id": "1347842a-3246-46f4-b43b-e6887d5f6e04",
   "metadata": {},
   "outputs": [],
   "source": [
    "# Finally, we define a custom dictionary for all the scoring functions that we will use in evaluating algorithms\n",
    "\n",
    "scoring = {'accuracy': make_scorer(accuracy_score),\n",
    "           'precision': make_scorer(precision_score),\n",
    "           'recall': make_scorer(recall_score),\n",
    "           'f1': make_scorer(f1_score)\n",
    "          }"
   ]
  },
  {
   "cell_type": "markdown",
   "id": "dec9b3a8-8afa-49b4-ba7f-aba18ad1565e",
   "metadata": {},
   "source": [
    "# Training and testing algorithms:"
   ]
  },
  {
   "cell_type": "code",
   "execution_count": 10,
   "id": "43ae47ef-365d-4dde-aabf-773272d4f195",
   "metadata": {},
   "outputs": [],
   "source": [
    "X = df.drop('Attack LABLE (1:No Attack, -1:Attack)', axis=1)\n",
    "y = df['Attack LABLE (1:No Attack, -1:Attack)']"
   ]
  },
  {
   "cell_type": "markdown",
   "id": "22b46ce8-8308-4003-8b3a-a859ae6c47c5",
   "metadata": {},
   "source": [
    "## AdaBoostClassifier"
   ]
  },
  {
   "cell_type": "code",
   "execution_count": 11,
   "id": "2d9cca01-3d08-4d1c-943c-8e1ac773c6d0",
   "metadata": {
    "editable": true,
    "slideshow": {
     "slide_type": ""
    },
    "tags": []
   },
   "outputs": [],
   "source": [
    "model_abclf = AdaBoostClassifier(algorithm='SAMME', random_state=42)\n",
    "scores = cross_validate(model_abclf, X, y, cv=10, scoring=scoring)"
   ]
  },
  {
   "cell_type": "code",
   "execution_count": 12,
   "id": "1c7eff8e-7eda-4092-b116-77bf7fab57b1",
   "metadata": {
    "editable": true,
    "slideshow": {
     "slide_type": ""
    },
    "tags": []
   },
   "outputs": [
    {
     "name": "stdout",
     "output_type": "stream",
     "text": [
      "Fit_time: 214.4625 ± 4.0250\n",
      "\n",
      "Score_time: 1.7773 ± 0.1254\n",
      "\n",
      "Test_accuracy: 0.9640 ± 0.0655\n",
      "\n",
      "Test_precision: 0.9914 ± 0.0022\n",
      "\n",
      "Test_recall: 0.9722 ± 0.0681\n",
      "\n",
      "Test_f1: 0.9803 ± 0.0373\n",
      "\n"
     ]
    }
   ],
   "source": [
    "for score_name, score_values in scores.items():\n",
    "    print(f\"{score_name.capitalize()}: {score_values.mean():.4f} ± {score_values.std():.4f}\")\n",
    "    print()"
   ]
  },
  {
   "cell_type": "markdown",
   "id": "483eadcc-9598-49c4-af78-084846532bfe",
   "metadata": {},
   "source": [
    "## BaggingClassifier"
   ]
  },
  {
   "cell_type": "code",
   "execution_count": 13,
   "id": "0a6c56fa-4cc8-4833-a4ee-d729f0f142bd",
   "metadata": {},
   "outputs": [],
   "source": [
    "model_bclf = BaggingClassifier(random_state=42)\n",
    "scores = cross_validate(model_bclf, X, y, cv=10, scoring=scoring)"
   ]
  },
  {
   "cell_type": "code",
   "execution_count": 14,
   "id": "e12fb3d0-c0ac-4087-a80e-0f20aeb59733",
   "metadata": {},
   "outputs": [
    {
     "name": "stdout",
     "output_type": "stream",
     "text": [
      "Fit_time: 354.3228 ± 59.6237\n",
      "\n",
      "Score_time: 0.7812 ± 0.0814\n",
      "\n",
      "Test_accuracy: 0.9399 ± 0.1050\n",
      "\n",
      "Test_precision: 0.9930 ± 0.0028\n",
      "\n",
      "Test_recall: 0.9459 ± 0.1064\n",
      "\n",
      "Test_f1: 0.9655 ± 0.0625\n",
      "\n"
     ]
    }
   ],
   "source": [
    "for score_name, score_values in scores.items():\n",
    "    print(f\"{score_name.capitalize()}: {score_values.mean():.4f} ± {score_values.std():.4f}\")\n",
    "    print()"
   ]
  },
  {
   "cell_type": "markdown",
   "id": "1cef8de5-e204-43fb-8150-9f61cd15406e",
   "metadata": {},
   "source": [
    "## DecisionTreeClassifier"
   ]
  },
  {
   "cell_type": "code",
   "execution_count": 15,
   "id": "e304df02-215f-4f4a-9389-88e568ea828a",
   "metadata": {},
   "outputs": [],
   "source": [
    "model_dtclf = DecisionTreeClassifier(random_state=42)\n",
    "scores = cross_validate(model_dtclf, X, y, cv=10, scoring=scoring)"
   ]
  },
  {
   "cell_type": "code",
   "execution_count": 16,
   "id": "93415b60-de7f-442e-a3f4-fb2c4079a9ff",
   "metadata": {},
   "outputs": [
    {
     "name": "stdout",
     "output_type": "stream",
     "text": [
      "Fit_time: 50.9079 ± 11.8715\n",
      "\n",
      "Score_time: 0.1404 ± 0.0084\n",
      "\n",
      "Test_accuracy: 0.9418 ± 0.1001\n",
      "\n",
      "Test_precision: 0.9933 ± 0.0028\n",
      "\n",
      "Test_recall: 0.9475 ± 0.1010\n",
      "\n",
      "Test_f1: 0.9669 ± 0.0590\n",
      "\n"
     ]
    }
   ],
   "source": [
    "for score_name, score_values in scores.items():\n",
    "    print(f\"{score_name.capitalize()}: {score_values.mean():.4f} ± {score_values.std():.4f}\")\n",
    "    print()"
   ]
  },
  {
   "cell_type": "markdown",
   "id": "85da9255-e682-47e6-9a1c-ad28e191d9d2",
   "metadata": {},
   "source": [
    "## RandomForestClassifier"
   ]
  },
  {
   "cell_type": "code",
   "execution_count": 17,
   "id": "b74fbdb6-0fa6-4175-81fd-36c40abd77e5",
   "metadata": {},
   "outputs": [],
   "source": [
    "model_rfclf = RandomForestClassifier(random_state=42)\n",
    "scores = cross_validate(model_dtclf, X, y, cv=10, scoring=scoring)"
   ]
  },
  {
   "cell_type": "code",
   "execution_count": 18,
   "id": "b10235a5-6485-43a4-9193-5641dea39cca",
   "metadata": {},
   "outputs": [
    {
     "name": "stdout",
     "output_type": "stream",
     "text": [
      "Fit_time: 50.7097 ± 11.6313\n",
      "\n",
      "Score_time: 0.1358 ± 0.0023\n",
      "\n",
      "Test_accuracy: 0.9418 ± 0.1001\n",
      "\n",
      "Test_precision: 0.9933 ± 0.0028\n",
      "\n",
      "Test_recall: 0.9475 ± 0.1010\n",
      "\n",
      "Test_f1: 0.9669 ± 0.0590\n",
      "\n"
     ]
    }
   ],
   "source": [
    "for score_name, score_values in scores.items():\n",
    "    print(f\"{score_name.capitalize()}: {score_values.mean():.4f} ± {score_values.std():.4f}\")\n",
    "    print()"
   ]
  },
  {
   "cell_type": "markdown",
   "id": "9b09a31b-8e4b-4eb6-bf47-3173c7d019dd",
   "metadata": {},
   "source": [
    "## ExtraTreesClassifier"
   ]
  },
  {
   "cell_type": "code",
   "execution_count": 19,
   "id": "11b9b19f-060b-4dc0-bd9d-5b92ac37ff78",
   "metadata": {},
   "outputs": [],
   "source": [
    "model_etclf = ExtraTreesClassifier(random_state=42)\n",
    "scores = cross_validate(model_etclf, X, y, cv=10, scoring=scoring)"
   ]
  },
  {
   "cell_type": "code",
   "execution_count": 20,
   "id": "98ea4d79-518a-46ea-bab8-876a2d6673f9",
   "metadata": {},
   "outputs": [
    {
     "name": "stdout",
     "output_type": "stream",
     "text": [
      "Fit_time: 40.8681 ± 1.7544\n",
      "\n",
      "Score_time: 0.4043 ± 0.0201\n",
      "\n",
      "Test_accuracy: 0.9734 ± 0.0434\n",
      "\n",
      "Test_precision: 0.9943 ± 0.0028\n",
      "\n",
      "Test_recall: 0.9788 ± 0.0440\n",
      "\n",
      "Test_f1: 0.9860 ± 0.0233\n",
      "\n"
     ]
    }
   ],
   "source": [
    "for score_name, score_values in scores.items():\n",
    "    print(f\"{score_name.capitalize()}: {score_values.mean():.4f} ± {score_values.std():.4f}\")\n",
    "    print()"
   ]
  },
  {
   "cell_type": "markdown",
   "id": "1d5dc1e7-9459-4a7e-88f5-b1ae83b79eb1",
   "metadata": {},
   "source": [
    "## GradientBoostingClassifier"
   ]
  },
  {
   "cell_type": "code",
   "execution_count": null,
   "id": "eab02675-dbf5-40bc-aaba-171d31b8185c",
   "metadata": {
    "editable": true,
    "slideshow": {
     "slide_type": ""
    },
    "tags": []
   },
   "outputs": [],
   "source": [
    "model_gbclf = GradientBoostingClassifier(random_state=42)\n",
    "scores = cross_validate(model_gbclf, X, y, cv=10, scoring=scoring)"
   ]
  },
  {
   "cell_type": "code",
   "execution_count": null,
   "id": "7357990c-4fe6-4aa9-9a15-d290bcca27c9",
   "metadata": {},
   "outputs": [],
   "source": [
    "for score_name, score_values in scores.items():\n",
    "    print(f\"{score_name.capitalize()}: {score_values.mean():.4f} ± {score_values.std():.4f}\")\n",
    "    print()"
   ]
  },
  {
   "cell_type": "markdown",
   "id": "cb1f809a-ce96-4e7f-ad68-9c6f2290a8e1",
   "metadata": {},
   "source": [
    "## HistGradientBoostingClassifier"
   ]
  },
  {
   "cell_type": "code",
   "execution_count": null,
   "id": "d48b91ad-b903-4486-871f-b0a84ccd4352",
   "metadata": {},
   "outputs": [],
   "source": [
    "model_hgbclf = HistGradientBoostingClassifier(random_state=42)\n",
    "scores = cross_validate(model_hgbclf, X, y, cv=10, scoring=scoring)"
   ]
  },
  {
   "cell_type": "code",
   "execution_count": null,
   "id": "4b6b9bd6-8856-4b9b-ad9d-c9d8c96c65fa",
   "metadata": {},
   "outputs": [],
   "source": [
    "for score_name, score_values in scores.items():\n",
    "    print(f\"{score_name.capitalize()}: {score_values.mean():.4f} ± {score_values.std():.4f}\")\n",
    "    print()"
   ]
  }
 ],
 "metadata": {
  "kernelspec": {
   "display_name": "Python 3 (ipykernel)",
   "language": "python",
   "name": "python3"
  },
  "language_info": {
   "codemirror_mode": {
    "name": "ipython",
    "version": 3
   },
   "file_extension": ".py",
   "mimetype": "text/x-python",
   "name": "python",
   "nbconvert_exporter": "python",
   "pygments_lexer": "ipython3",
   "version": "3.12.3"
  }
 },
 "nbformat": 4,
 "nbformat_minor": 5
}
